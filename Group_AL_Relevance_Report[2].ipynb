{
  "cells": [
    {
      "cell_type": "markdown",
      "metadata": {},
      "source": [
        "#### Introduction"
      ]
    },
    {
      "cell_type": "markdown",
      "metadata": {},
      "source": [
        "In this report, we delve into the task of predicting the relevance of newspaper articles to users' information needs. Our dataset comprises articles characterized by various features such as document ID, author, body, byline, and title, alongside descriptions of users' information requirements, encapsulated in fields like topic ID, description, narrative, and topic title. Through meticulous analysis and predictive modeling, our aim is to discern whether an article aligns with the user's specified information need, assigning a binary judgment of 0 for \"not relevant\" and 1 for \"relevant.\" This endeavor contributes to enhancing information retrieval systems' efficacy and user satisfaction\n",
        "\n",
        "In addition to addressing the practical challenge of predicting article relevance to users' information needs, this endeavor offers a valuable opportunity to explore various facets of deep learning. By employing advanced techniques within the realm of artificial intelligence, such as neural networks and natural language processing, we endeavor to decipher complex patterns within textual data. This exploration not only aids in refining the accuracy of our predictive models but also enriches our understanding of the intricate mechanisms underlying deep learning. Through this interdisciplinary approach, we aim to contribute to the advancement of both information retrieval methodologies and the broader field of artificial intelligence."
      ]
    },
    {
      "cell_type": "markdown",
      "metadata": {
        "id": "h0xsAwLF0fO5"
      },
      "source": [
        "### Methodology\n",
        "\n",
        "Data Exploration and Pre-Processing\n",
        "Loading and Inspecting Data: Initially, we loaded the dataset into pandas DataFrames to facilitate ease of manipulation. This step was crucial for both training and test datasets. We utilized functions such as shape, info(), and describe() to glean an understanding of the dataset’s structure, dimensionality, and statistical properties.\n",
        "\n",
        "Handling Missing Values: Recognizing the criticality of complete datasets for accurate modeling, we meticulously identified and rectified missing values. This process was particularly focused on the 'body' text of our dataset, where missing entries were omitted to preserve the integrity of the dataset.\n",
        "\n",
        "Visualization: With the help of seaborn and matplotlib libraries, we embarked on a data visualization journey to unearth underlying patterns, distributions, and potential anomalies within the data. This step was instrumental in shaping our subsequent modeling strategy."
      ]
    },
    {
      "cell_type": "code",
      "execution_count": 3,
      "metadata": {
        "colab": {
          "base_uri": "https://localhost:8080/"
        },
        "id": "qXIey0no93n0",
        "outputId": "b001aa29-b340-4eb4-f092-f2ae3d7f632e"
      },
      "outputs": [
        {
          "name": "stdout",
          "output_type": "stream",
          "text": [
            "Mounted at /content/drive\n"
          ]
        }
      ],
      "source": [
        "from google.colab import drive\n",
        "drive.mount('/content/drive')"
      ]
    },
    {
      "cell_type": "code",
      "execution_count": 4,
      "metadata": {
        "colab": {
          "base_uri": "https://localhost:8080/",
          "height": 573
        },
        "id": "ptDPvPLM0fPC",
        "outputId": "9c238a96-c324-479a-dd9d-510329440f3f"
      },
      "outputs": [
        {
          "data": {
            "application/vnd.google.colaboratory.intrinsic+json": {
              "summary": "{\n  \"name\": \"train_df\",\n  \"rows\": 21120,\n  \"fields\": [\n    {\n      \"column\": \"doc_id\",\n      \"properties\": {\n        \"dtype\": \"string\",\n        \"num_unique_values\": 20133,\n        \"samples\": [\n          \"4e4ce66d22bb83c48bbbb8c02c13b52e\",\n          \"90720088701c26da4978afc6bf540d80\",\n          \"aa7fe794d9aac67e652ae42117bd603a\"\n        ],\n        \"semantic_type\": \"\",\n        \"description\": \"\"\n      }\n    },\n    {\n      \"column\": \"judgement\",\n      \"properties\": {\n        \"dtype\": \"number\",\n        \"std\": 0,\n        \"min\": 0,\n        \"max\": 1,\n        \"num_unique_values\": 2,\n        \"samples\": [\n          1,\n          0\n        ],\n        \"semantic_type\": \"\",\n        \"description\": \"\"\n      }\n    },\n    {\n      \"column\": \"author\",\n      \"properties\": {\n        \"dtype\": \"category\",\n        \"num_unique_values\": 3365,\n        \"samples\": [\n          \"Casey Seidenberg\",\n          \"Asma T. Uddin\"\n        ],\n        \"semantic_type\": \"\",\n        \"description\": \"\"\n      }\n    },\n    {\n      \"column\": \"body\",\n      \"properties\": {\n        \"dtype\": \"string\",\n        \"num_unique_values\": 18070,\n        \"samples\": [\n          \"<p>\\u00a0</p>\\\\n<p>Netflix has renewed its controversial teen drama \\u201c13 Reasons Why\\u201d for a second season. The announcement, posted to <a href=\\\"https://twitter.com/13ReasonsWhy/status/861234041370034176\\\">Netflix\\u2019s\\u00a0Twitter account</a> Sunday morning, comes amid a <a href=\\\"https://www.washingtonpost.com/news/arts-and-entertainment/wp/2017/04/14/the-problem-with-how-13-reasons-why-treats-suicide/?utm_term=.c8859bc39884\\\">debate</a> around whether the show glamorizes suicide.</p>\\\\n<p>The drama\\u00a0is based on Jay Asher\\u2019s 2007 novel about Hannah Baker, a young girl who kills herself and leaves behind 13 audiotapes detailing how the actions (and inaction) of her classmates led to her death.</p>\\\\n<p>Suicide prevention advocates, school psychologists and educators have <a href=\\\"https://www.washingtonpost.com/local/education/educators-and-school-psychologists-raise-alarms-about-13-reasons-why/2017/05/01/bb534ec6-2c2b-11e7-a616-d7c8a68c1a66_story.html?utm_term=.f2faaa129875\\\">expressed\\u00a0concern</a> that the show \\u2014 which features graphic depictions of sexual assault and Hannah\\u2019s suicide \\u2014 may lead vulnerable young viewers to harm themselves.</p>\\\\n<p>Although Netflix does not release viewership numbers, \\u201c13 Reasons Why\\u201d is undoubtedly\\u00a0popular. Variety reported last month that the drama, which counts pop singer and actress Selena Gomez as an executive producer, was the <a href=\\\"http://variety.com/2017/tv/news/netflix-13-reasons-why-twitter-most-popular-show-2017-1202392460/\\\">most tweeted-about show</a>\\u00a0this year. It also has earned\\u00a0a fair share of critical acclaim and boasts a\\u00a0solid <a href=\\\"https://www.rottentomatoes.com/tv/13_reasons_why/s01/\\\">85 percent rating</a> on Rotten Tomatoes, although it\\u2019s worth noting that\\u00a0Washington Post TV critic Hank Stuever was not among those praising the show.</p>\\\\n<p>\\u201cThere are 13 episodes lasting 13 super-sullen hours \\u2014 a passive-aggressive, implausibly meandering, poorly written and awkwardly acted effort that is mainly about miscommunication, delivering no more wisdom or insight about depression, bullying and suicide than one of those old \\u2018ABC Afterschool Specials\\u2019 people now mock for being so corny,\\u201d Stuever <a href=\\\"https://www.washingtonpost.com/entertainment/tv/thirteen-reasons-why-shows-how-adults-can-really-mess-up-teen-angst/2017/03/30/c8db5f00-1346-11e7-9e4f-09aa75d3ec57_story.html?utm_term=.644347be249a\\\">wrote</a>.</p>\\\\n<p>The creator and producers have defended the show\\u2019s graphic content in media interviews and a featurette called \\u201cBeyond the Reasons,\\u201d which is also available on Netflix. \\u201cWe worked very hard not to be gratuitous, but we did want it to be painful to watch because we wanted it to be very clear that there is nothing, in any way, worthwhile about suicide,\\u201d\\u00a0creator Brian Yorkey says in the featurette.</p>\\\\n<p>Netflix\\u00a0<a href=\\\"https://www.washingtonpost.com/local/education/educators-and-school-psychologists-raise-alarms-about-13-reasons-why/2017/05/01/bb534ec6-2c2b-11e7-a616-d7c8a68c1a66_story.html?utm_term=.f2faaa129875\\\">told The Washington Post</a> that the show had \\u201copened up a dialogue.\\u201d</p>\\\\n<p>\\u201cEntertainment has always been the ultimate connector and we hope that \\u201813 Reasons Why\\u2019 can serve as a catalyst for conversation,\\u201d the streaming company <a href=\\\"https://www.washingtonpost.com/local/education/educators-and-school-psychologists-raise-alarms-about-13-reasons-why/2017/05/01/bb534ec6-2c2b-11e7-a616-d7c8a68c1a66_story.html?utm_term=.f2faaa129875\\\">said in a statement</a>\\u00a0provided to The Post last week.</p>\\\\n<p>Netflix has not yet announced a premiere date for Season 2, which would take the story beyond the premise of Asher\\u2019s novel.\\u00a0There isn\\u2019t much to glean from the 21-second teaser posted by Netflix and Gomez, either. But given the buzz around the show, it\\u2019s likely that the\\u00a0obscurity is intentional.</p>\\\\n<p><strong>Related:</strong></p>\\\\n<p><a href=\\\"https://www.washingtonpost.com/news/arts-and-entertainment/wp/2017/04/14/the-problem-with-how-13-reasons-why-treats-suicide/?utm_term=.c8859bc39884\\\">\\u201913 Reasons Why\\u2019 depicts a graphic suicide. Experts say there\\u2019s a problem with that.</a></p>\\\\n<p><a href=\\\"https://www.washingtonpost.com/news/morning-mix/wp/2017/05/02/netflixs-13-reasons-why-gets-more-trigger-warnings-critics-say-it-glamorizes-teen-suicide/?utm_term=.2d4cd37de53b\\\">Netflix\\u2019s \\u201913 Reasons Why\\u2019 gets more trigger warnings. Critics say it glamorizes teen suicide.</a></p>\\\\n<p><a href=\\\"https://www.washingtonpost.com/local/education/educators-and-school-psychologists-raise-alarms-about-13-reasons-why/2017/05/01/bb534ec6-2c2b-11e7-a616-d7c8a68c1a66_story.html?utm_term=.f2faaa129875\\\">Educators and school psychologists raise alarms about \\u201813 Reasons Why\\u2019</a></p>\\\\n<p>Review: <a href=\\\"https://www.washingtonpost.com/entertainment/tv/thirteen-reasons-why-shows-how-adults-can-really-mess-up-teen-angst/2017/03/30/c8db5f00-1346-11e7-9e4f-09aa75d3ec57_story.html?utm_term=.644347be249a\\\">\\u201913 Reasons Why\\u2019 shows how adults can really mess up teen angst</a></p>\",\n          \"<p>The Food and Drug Administration on Wednesday approved a device aimed at helping obese\\u00a0people shed weight\\u00a0in a novel way \\u2013 by targeting the nerve pathway between the brain and the stomach that controls feelings of hunger and fullness.</p>\\\\n<p>The Maestro Rechargeable System, as it is known, consists of an electrical charge generator, wire leads and electrodes that are implanted surgically into a patient\\u2019s abdomen. It sends\\u00a0electrical pulses designed to interfere with the vagus nerve, which signals to the brain when the stomach is full or empty.</p>\\\\n<p>Though researchers don't know exactly how such\\u00a0electrical stimulation leads to weight loss, the approach seems promising. In a year-long clinical trial involving 233 patients with a body-mass index, or BMI, of 35 or greater, those who received a working Maestro device lost 8.5 percent more weight than those without it.\\u00a0About half those in the experimental group lost at least 20 percent of their excess weight, and more than a third lost more than 25 percent of their excess weight.</p>\\\\n<p>The overall \\u00a0figure was below the original goal of the trial, which was to show weight loss of 10 percent more excess weight in the control group than in those using the new device. Nevertheless, an FDA advisory group said the data showed sustained weight loss among participants and argued that the benefits of the device outweigh its risks for certain patients. In the clinical trial, some patients experienced nausea, vomiting, surgical complications and other side effects. The FDA is requiring the device's manufacturer, EnteroMedics, to conduct a five-year, post-approval study to gather additional data about its safety and effectiveness.</p>\\\\n<p>The device\\u00a0represents the first obesity\\u00a0device the FDA has approved since 2007, and the first to target the nerve signals that tell us when we are hungry or full. But it isn't intended for people hoping to shed a few pounds in the new year. To the contrary, the agency approved the pacemaker-like\\u00a0device for people over 18 who have not been able to lose weight through a weight-loss program, who have a BMI between 35 and 45 (normal is <a href=\\\"http://www.nhlbi.nih.gov/health/educational/lose_wt/BMI/bmicalc.htm\\\">considered </a>below 25) and who have at least one other obesity-related condition, such as type 2 diabetes.</p>\\\\n<p>In a statement Wednesday, EnteroMedics chief executive Mark Knudson called the approval a \\\"transformational event\\\" for obese people in search of a new and viable\\u00a0way to lose weight. \\\"<span style=\\\"color: #444444;\\\">The Maestro System fills a significant gap in the currently available treatment options, offering clinically meaningful weight loss without the fear or many of the side effects associated with existing bariatric options,\\\" he said.</span></p>\\\\n<p>More than <a href=\\\"http://www.cdc.gov/obesity/data/adult.html\\\">a third</a> of U.S. adults are obese, according to the Centers for Disease Control and Prevention. Obesity causes increased risk\\u00a0for heart disease, stroke, type 2 diabetes and certain types of cancer and, the CDC says, leads to an estimated $147 billion in medical costs a year.</p>\"\n        ],\n        \"semantic_type\": \"\",\n        \"description\": \"\"\n      }\n    },\n    {\n      \"column\": \"byline\",\n      \"properties\": {\n        \"dtype\": \"category\",\n        \"num_unique_values\": 3346,\n        \"samples\": [\n          \"By Yoonjung Seo and Anna Fifield\",\n          \"By An Garagiola-Bernier\"\n        ],\n        \"semantic_type\": \"\",\n        \"description\": \"\"\n      }\n    },\n    {\n      \"column\": \"title\",\n      \"properties\": {\n        \"dtype\": \"string\",\n        \"num_unique_values\": 17726,\n        \"samples\": [\n          \"VA plans to offer salary boost to attract new doctors\",\n          \"TSA plans push to reduce airport lines, opening enrollment for its Pre-Check program\"\n        ],\n        \"semantic_type\": \"\",\n        \"description\": \"\"\n      }\n    },\n    {\n      \"column\": \"topic_id\",\n      \"properties\": {\n        \"dtype\": \"number\",\n        \"std\": 207,\n        \"min\": 321,\n        \"max\": 825,\n        \"num_unique_values\": 40,\n        \"samples\": [\n          690,\n          442\n        ],\n        \"semantic_type\": \"\",\n        \"description\": \"\"\n      }\n    },\n    {\n      \"column\": \"description\",\n      \"properties\": {\n        \"dtype\": \"category\",\n        \"num_unique_values\": 40,\n        \"samples\": [\n          \"Find documents which describe an advantage in hiring potential or increased income for graduates of U.S. colleges.\",\n          \"Find accounts of selfless heroic acts by individuals or small groups for the benefit of others or a cause.\"\n        ],\n        \"semantic_type\": \"\",\n        \"description\": \"\"\n      }\n    },\n    {\n      \"column\": \"narrative\",\n      \"properties\": {\n        \"dtype\": \"category\",\n        \"num_unique_values\": 40,\n        \"samples\": [\n          \"Relevant documents cite some advantage of a college education for job opportunities. Documents citing better opportunities for non-college vocational-training is not relevant.\",\n          \"Relevant documents will contain a description of specific acts. General statements concerning heroic acts are not relevant.\"\n        ],\n        \"semantic_type\": \"\",\n        \"description\": \"\"\n      }\n    },\n    {\n      \"column\": \"topic_title\",\n      \"properties\": {\n        \"dtype\": \"category\",\n        \"num_unique_values\": 40,\n        \"samples\": [\n          \"college education advantage\",\n          \"heroic acts\"\n        ],\n        \"semantic_type\": \"\",\n        \"description\": \"\"\n      }\n    }\n  ]\n}",
              "type": "dataframe",
              "variable_name": "train_df"
            },
            "text/html": [
              "\n",
              "  <div id=\"df-0e0bf771-c44d-4fdf-b931-1611fee78135\" class=\"colab-df-container\">\n",
              "    <div>\n",
              "<style scoped>\n",
              "    .dataframe tbody tr th:only-of-type {\n",
              "        vertical-align: middle;\n",
              "    }\n",
              "\n",
              "    .dataframe tbody tr th {\n",
              "        vertical-align: top;\n",
              "    }\n",
              "\n",
              "    .dataframe thead th {\n",
              "        text-align: right;\n",
              "    }\n",
              "</style>\n",
              "<table border=\"1\" class=\"dataframe\">\n",
              "  <thead>\n",
              "    <tr style=\"text-align: right;\">\n",
              "      <th></th>\n",
              "      <th>doc_id</th>\n",
              "      <th>judgement</th>\n",
              "      <th>author</th>\n",
              "      <th>body</th>\n",
              "      <th>byline</th>\n",
              "      <th>title</th>\n",
              "      <th>topic_id</th>\n",
              "      <th>description</th>\n",
              "      <th>narrative</th>\n",
              "      <th>topic_title</th>\n",
              "    </tr>\n",
              "  </thead>\n",
              "  <tbody>\n",
              "    <tr>\n",
              "      <th>0</th>\n",
              "      <td>004c6120d0aa69da29cc045da0562168</td>\n",
              "      <td>0</td>\n",
              "      <td>Terrence McCoy</td>\n",
              "      <td>&lt;p&gt;More than 60 years ago, a fair-skinned Iris...</td>\n",
              "      <td>By Terrence McCoy</td>\n",
              "      <td>Report on Irish baby homes documents use of in...</td>\n",
              "      <td>321</td>\n",
              "      <td>Pertinent documents will reflect the fact that...</td>\n",
              "      <td>Pertinent documents relating to this issue wil...</td>\n",
              "      <td>Women in Parliaments</td>\n",
              "    </tr>\n",
              "    <tr>\n",
              "      <th>1</th>\n",
              "      <td>005a1f0c2064487a7f15443b2a5f349a</td>\n",
              "      <td>0</td>\n",
              "      <td>Brian McNoldy</td>\n",
              "      <td>&lt;p&gt;Hurricane Fred, which formed over the weeke...</td>\n",
              "      <td>By Brian McNoldy</td>\n",
              "      <td>Hurricane Fred is a fountain of ‘firsts’ in th...</td>\n",
              "      <td>321</td>\n",
              "      <td>Pertinent documents will reflect the fact that...</td>\n",
              "      <td>Pertinent documents relating to this issue wil...</td>\n",
              "      <td>Women in Parliaments</td>\n",
              "    </tr>\n",
              "    <tr>\n",
              "      <th>2</th>\n",
              "      <td>00722094-2935-11e2-b4e0-346287b7e56c</td>\n",
              "      <td>0</td>\n",
              "      <td>Editorial Board</td>\n",
              "      <td>&lt;p&gt;EIGHT YEARS AGO this month, an inspiring mo...</td>\n",
              "      <td>By Editorial Board</td>\n",
              "      <td>Ukraine slides away from democracy</td>\n",
              "      <td>321</td>\n",
              "      <td>Pertinent documents will reflect the fact that...</td>\n",
              "      <td>Pertinent documents relating to this issue wil...</td>\n",
              "      <td>Women in Parliaments</td>\n",
              "    </tr>\n",
              "    <tr>\n",
              "      <th>3</th>\n",
              "      <td>007d2856-7cc4-11e4-84d4-7c896b90abdc</td>\n",
              "      <td>0</td>\n",
              "      <td>Adam Bernstein</td>\n",
              "      <td>&lt;p&gt;Mary Burke Washington, an economist who was...</td>\n",
              "      <td>By Adam Bernstein</td>\n",
              "      <td>Mary Washington, government official and widow...</td>\n",
              "      <td>321</td>\n",
              "      <td>Pertinent documents will reflect the fact that...</td>\n",
              "      <td>Pertinent documents relating to this issue wil...</td>\n",
              "      <td>Women in Parliaments</td>\n",
              "    </tr>\n",
              "    <tr>\n",
              "      <th>4</th>\n",
              "      <td>009aafb6-0283-11e6-8bb1-f124a43f84dc</td>\n",
              "      <td>0</td>\n",
              "      <td>None</td>\n",
              "      <td>&lt;p&gt;When Treasury Secretary Jack Lew &lt;a href=\"h...</td>\n",
              "      <td>None</td>\n",
              "      <td>Will women be shortchanged again?</td>\n",
              "      <td>321</td>\n",
              "      <td>Pertinent documents will reflect the fact that...</td>\n",
              "      <td>Pertinent documents relating to this issue wil...</td>\n",
              "      <td>Women in Parliaments</td>\n",
              "    </tr>\n",
              "  </tbody>\n",
              "</table>\n",
              "</div>\n",
              "    <div class=\"colab-df-buttons\">\n",
              "\n",
              "  <div class=\"colab-df-container\">\n",
              "    <button class=\"colab-df-convert\" onclick=\"convertToInteractive('df-0e0bf771-c44d-4fdf-b931-1611fee78135')\"\n",
              "            title=\"Convert this dataframe to an interactive table.\"\n",
              "            style=\"display:none;\">\n",
              "\n",
              "  <svg xmlns=\"http://www.w3.org/2000/svg\" height=\"24px\" viewBox=\"0 -960 960 960\">\n",
              "    <path d=\"M120-120v-720h720v720H120Zm60-500h600v-160H180v160Zm220 220h160v-160H400v160Zm0 220h160v-160H400v160ZM180-400h160v-160H180v160Zm440 0h160v-160H620v160ZM180-180h160v-160H180v160Zm440 0h160v-160H620v160Z\"/>\n",
              "  </svg>\n",
              "    </button>\n",
              "\n",
              "  <style>\n",
              "    .colab-df-container {\n",
              "      display:flex;\n",
              "      gap: 12px;\n",
              "    }\n",
              "\n",
              "    .colab-df-convert {\n",
              "      background-color: #E8F0FE;\n",
              "      border: none;\n",
              "      border-radius: 50%;\n",
              "      cursor: pointer;\n",
              "      display: none;\n",
              "      fill: #1967D2;\n",
              "      height: 32px;\n",
              "      padding: 0 0 0 0;\n",
              "      width: 32px;\n",
              "    }\n",
              "\n",
              "    .colab-df-convert:hover {\n",
              "      background-color: #E2EBFA;\n",
              "      box-shadow: 0px 1px 2px rgba(60, 64, 67, 0.3), 0px 1px 3px 1px rgba(60, 64, 67, 0.15);\n",
              "      fill: #174EA6;\n",
              "    }\n",
              "\n",
              "    .colab-df-buttons div {\n",
              "      margin-bottom: 4px;\n",
              "    }\n",
              "\n",
              "    [theme=dark] .colab-df-convert {\n",
              "      background-color: #3B4455;\n",
              "      fill: #D2E3FC;\n",
              "    }\n",
              "\n",
              "    [theme=dark] .colab-df-convert:hover {\n",
              "      background-color: #434B5C;\n",
              "      box-shadow: 0px 1px 3px 1px rgba(0, 0, 0, 0.15);\n",
              "      filter: drop-shadow(0px 1px 2px rgba(0, 0, 0, 0.3));\n",
              "      fill: #FFFFFF;\n",
              "    }\n",
              "  </style>\n",
              "\n",
              "    <script>\n",
              "      const buttonEl =\n",
              "        document.querySelector('#df-0e0bf771-c44d-4fdf-b931-1611fee78135 button.colab-df-convert');\n",
              "      buttonEl.style.display =\n",
              "        google.colab.kernel.accessAllowed ? 'block' : 'none';\n",
              "\n",
              "      async function convertToInteractive(key) {\n",
              "        const element = document.querySelector('#df-0e0bf771-c44d-4fdf-b931-1611fee78135');\n",
              "        const dataTable =\n",
              "          await google.colab.kernel.invokeFunction('convertToInteractive',\n",
              "                                                    [key], {});\n",
              "        if (!dataTable) return;\n",
              "\n",
              "        const docLinkHtml = 'Like what you see? Visit the ' +\n",
              "          '<a target=\"_blank\" href=https://colab.research.google.com/notebooks/data_table.ipynb>data table notebook</a>'\n",
              "          + ' to learn more about interactive tables.';\n",
              "        element.innerHTML = '';\n",
              "        dataTable['output_type'] = 'display_data';\n",
              "        await google.colab.output.renderOutput(dataTable, element);\n",
              "        const docLink = document.createElement('div');\n",
              "        docLink.innerHTML = docLinkHtml;\n",
              "        element.appendChild(docLink);\n",
              "      }\n",
              "    </script>\n",
              "  </div>\n",
              "\n",
              "\n",
              "<div id=\"df-ca3a5f24-42dc-43d2-adb5-9dfba9e868f9\">\n",
              "  <button class=\"colab-df-quickchart\" onclick=\"quickchart('df-ca3a5f24-42dc-43d2-adb5-9dfba9e868f9')\"\n",
              "            title=\"Suggest charts\"\n",
              "            style=\"display:none;\">\n",
              "\n",
              "<svg xmlns=\"http://www.w3.org/2000/svg\" height=\"24px\"viewBox=\"0 0 24 24\"\n",
              "     width=\"24px\">\n",
              "    <g>\n",
              "        <path d=\"M19 3H5c-1.1 0-2 .9-2 2v14c0 1.1.9 2 2 2h14c1.1 0 2-.9 2-2V5c0-1.1-.9-2-2-2zM9 17H7v-7h2v7zm4 0h-2V7h2v10zm4 0h-2v-4h2v4z\"/>\n",
              "    </g>\n",
              "</svg>\n",
              "  </button>\n",
              "\n",
              "<style>\n",
              "  .colab-df-quickchart {\n",
              "      --bg-color: #E8F0FE;\n",
              "      --fill-color: #1967D2;\n",
              "      --hover-bg-color: #E2EBFA;\n",
              "      --hover-fill-color: #174EA6;\n",
              "      --disabled-fill-color: #AAA;\n",
              "      --disabled-bg-color: #DDD;\n",
              "  }\n",
              "\n",
              "  [theme=dark] .colab-df-quickchart {\n",
              "      --bg-color: #3B4455;\n",
              "      --fill-color: #D2E3FC;\n",
              "      --hover-bg-color: #434B5C;\n",
              "      --hover-fill-color: #FFFFFF;\n",
              "      --disabled-bg-color: #3B4455;\n",
              "      --disabled-fill-color: #666;\n",
              "  }\n",
              "\n",
              "  .colab-df-quickchart {\n",
              "    background-color: var(--bg-color);\n",
              "    border: none;\n",
              "    border-radius: 50%;\n",
              "    cursor: pointer;\n",
              "    display: none;\n",
              "    fill: var(--fill-color);\n",
              "    height: 32px;\n",
              "    padding: 0;\n",
              "    width: 32px;\n",
              "  }\n",
              "\n",
              "  .colab-df-quickchart:hover {\n",
              "    background-color: var(--hover-bg-color);\n",
              "    box-shadow: 0 1px 2px rgba(60, 64, 67, 0.3), 0 1px 3px 1px rgba(60, 64, 67, 0.15);\n",
              "    fill: var(--button-hover-fill-color);\n",
              "  }\n",
              "\n",
              "  .colab-df-quickchart-complete:disabled,\n",
              "  .colab-df-quickchart-complete:disabled:hover {\n",
              "    background-color: var(--disabled-bg-color);\n",
              "    fill: var(--disabled-fill-color);\n",
              "    box-shadow: none;\n",
              "  }\n",
              "\n",
              "  .colab-df-spinner {\n",
              "    border: 2px solid var(--fill-color);\n",
              "    border-color: transparent;\n",
              "    border-bottom-color: var(--fill-color);\n",
              "    animation:\n",
              "      spin 1s steps(1) infinite;\n",
              "  }\n",
              "\n",
              "  @keyframes spin {\n",
              "    0% {\n",
              "      border-color: transparent;\n",
              "      border-bottom-color: var(--fill-color);\n",
              "      border-left-color: var(--fill-color);\n",
              "    }\n",
              "    20% {\n",
              "      border-color: transparent;\n",
              "      border-left-color: var(--fill-color);\n",
              "      border-top-color: var(--fill-color);\n",
              "    }\n",
              "    30% {\n",
              "      border-color: transparent;\n",
              "      border-left-color: var(--fill-color);\n",
              "      border-top-color: var(--fill-color);\n",
              "      border-right-color: var(--fill-color);\n",
              "    }\n",
              "    40% {\n",
              "      border-color: transparent;\n",
              "      border-right-color: var(--fill-color);\n",
              "      border-top-color: var(--fill-color);\n",
              "    }\n",
              "    60% {\n",
              "      border-color: transparent;\n",
              "      border-right-color: var(--fill-color);\n",
              "    }\n",
              "    80% {\n",
              "      border-color: transparent;\n",
              "      border-right-color: var(--fill-color);\n",
              "      border-bottom-color: var(--fill-color);\n",
              "    }\n",
              "    90% {\n",
              "      border-color: transparent;\n",
              "      border-bottom-color: var(--fill-color);\n",
              "    }\n",
              "  }\n",
              "</style>\n",
              "\n",
              "  <script>\n",
              "    async function quickchart(key) {\n",
              "      const quickchartButtonEl =\n",
              "        document.querySelector('#' + key + ' button');\n",
              "      quickchartButtonEl.disabled = true;  // To prevent multiple clicks.\n",
              "      quickchartButtonEl.classList.add('colab-df-spinner');\n",
              "      try {\n",
              "        const charts = await google.colab.kernel.invokeFunction(\n",
              "            'suggestCharts', [key], {});\n",
              "      } catch (error) {\n",
              "        console.error('Error during call to suggestCharts:', error);\n",
              "      }\n",
              "      quickchartButtonEl.classList.remove('colab-df-spinner');\n",
              "      quickchartButtonEl.classList.add('colab-df-quickchart-complete');\n",
              "    }\n",
              "    (() => {\n",
              "      let quickchartButtonEl =\n",
              "        document.querySelector('#df-ca3a5f24-42dc-43d2-adb5-9dfba9e868f9 button');\n",
              "      quickchartButtonEl.style.display =\n",
              "        google.colab.kernel.accessAllowed ? 'block' : 'none';\n",
              "    })();\n",
              "  </script>\n",
              "</div>\n",
              "    </div>\n",
              "  </div>\n"
            ],
            "text/plain": [
              "                                 doc_id  judgement           author  \\\n",
              "0      004c6120d0aa69da29cc045da0562168          0   Terrence McCoy   \n",
              "1      005a1f0c2064487a7f15443b2a5f349a          0    Brian McNoldy   \n",
              "2  00722094-2935-11e2-b4e0-346287b7e56c          0  Editorial Board   \n",
              "3  007d2856-7cc4-11e4-84d4-7c896b90abdc          0   Adam Bernstein   \n",
              "4  009aafb6-0283-11e6-8bb1-f124a43f84dc          0             None   \n",
              "\n",
              "                                                body              byline  \\\n",
              "0  <p>More than 60 years ago, a fair-skinned Iris...   By Terrence McCoy   \n",
              "1  <p>Hurricane Fred, which formed over the weeke...    By Brian McNoldy   \n",
              "2  <p>EIGHT YEARS AGO this month, an inspiring mo...  By Editorial Board   \n",
              "3  <p>Mary Burke Washington, an economist who was...   By Adam Bernstein   \n",
              "4  <p>When Treasury Secretary Jack Lew <a href=\"h...                None   \n",
              "\n",
              "                                               title  topic_id  \\\n",
              "0  Report on Irish baby homes documents use of in...       321   \n",
              "1  Hurricane Fred is a fountain of ‘firsts’ in th...       321   \n",
              "2                 Ukraine slides away from democracy       321   \n",
              "3  Mary Washington, government official and widow...       321   \n",
              "4                  Will women be shortchanged again?       321   \n",
              "\n",
              "                                         description  \\\n",
              "0  Pertinent documents will reflect the fact that...   \n",
              "1  Pertinent documents will reflect the fact that...   \n",
              "2  Pertinent documents will reflect the fact that...   \n",
              "3  Pertinent documents will reflect the fact that...   \n",
              "4  Pertinent documents will reflect the fact that...   \n",
              "\n",
              "                                           narrative           topic_title  \n",
              "0  Pertinent documents relating to this issue wil...  Women in Parliaments  \n",
              "1  Pertinent documents relating to this issue wil...  Women in Parliaments  \n",
              "2  Pertinent documents relating to this issue wil...  Women in Parliaments  \n",
              "3  Pertinent documents relating to this issue wil...  Women in Parliaments  \n",
              "4  Pertinent documents relating to this issue wil...  Women in Parliaments  "
            ]
          },
          "execution_count": 4,
          "metadata": {},
          "output_type": "execute_result"
        }
      ],
      "source": [
        "import pandas as pd\n",
        "\n",
        "# Load the training and test datasets\n",
        "train_df = pd.read_parquet('/content/drive/MyDrive/relevance_train.parquet')\n",
        "test_df = pd.read_parquet('/content/drive/MyDrive/relevance_test.parquet')\n",
        "\n",
        "# Display the first few rows of dataset to understand its structure\n",
        "train_df.head()"
      ]
    },
    {
      "cell_type": "code",
      "execution_count": 8,
      "metadata": {
        "colab": {
          "base_uri": "https://localhost:8080/"
        },
        "id": "Y-Qeea5d0fPG",
        "outputId": "5cd6cbbb-6420-403a-9f14-a3ab6832ec24"
      },
      "outputs": [
        {
          "data": {
            "text/plain": [
              "(5113, 9)"
            ]
          },
          "execution_count": 8,
          "metadata": {},
          "output_type": "execute_result"
        }
      ],
      "source": [
        "test_df.shape"
      ]
    },
    {
      "cell_type": "code",
      "execution_count": 9,
      "metadata": {
        "id": "XHfnnUid0fPH"
      },
      "outputs": [],
      "source": [
        "import pandas as pd\n",
        "import numpy as np\n",
        "from sklearn.model_selection import train_test_split\n",
        "from sklearn.feature_extraction.text import CountVectorizer\n",
        "from sklearn.metrics import accuracy_score, precision_score, recall_score, f1_score\n",
        "from sklearn.naive_bayes import MultinomialNB\n",
        "from sklearn.neural_network import MLPClassifier\n",
        "import matplotlib.pyplot as plt"
      ]
    },
    {
      "cell_type": "code",
      "execution_count": 10,
      "metadata": {
        "colab": {
          "base_uri": "https://localhost:8080/"
        },
        "id": "po3L7CSW0fPI",
        "outputId": "e8cdbccc-bbbc-444c-bb87-f44e23a5b907"
      },
      "outputs": [
        {
          "name": "stdout",
          "output_type": "stream",
          "text": [
            "<class 'pandas.core.frame.DataFrame'>\n",
            "Index: 21120 entries, 0 to 26232\n",
            "Data columns (total 10 columns):\n",
            " #   Column       Non-Null Count  Dtype \n",
            "---  ------       --------------  ----- \n",
            " 0   doc_id       21120 non-null  object\n",
            " 1   judgement    21120 non-null  int64 \n",
            " 2   author       18185 non-null  object\n",
            " 3   body         19689 non-null  object\n",
            " 4   byline       18250 non-null  object\n",
            " 5   title        19758 non-null  object\n",
            " 6   topic_id     21120 non-null  int64 \n",
            " 7   description  21120 non-null  object\n",
            " 8   narrative    21120 non-null  object\n",
            " 9   topic_title  21120 non-null  object\n",
            "dtypes: int64(2), object(8)\n",
            "memory usage: 1.8+ MB\n"
          ]
        }
      ],
      "source": [
        "train_df.info()"
      ]
    },
    {
      "cell_type": "code",
      "execution_count": 11,
      "metadata": {
        "colab": {
          "base_uri": "https://localhost:8080/",
          "height": 300
        },
        "id": "vMaoVQoJ0fPJ",
        "outputId": "9c8d10ef-3719-483e-e964-719c39a42f3d"
      },
      "outputs": [
        {
          "data": {
            "application/vnd.google.colaboratory.intrinsic+json": {
              "summary": "{\n  \"name\": \"train_df\",\n  \"rows\": 8,\n  \"fields\": [\n    {\n      \"column\": \"judgement\",\n      \"properties\": {\n        \"dtype\": \"number\",\n        \"std\": 7466.97085981563,\n        \"min\": 0.0,\n        \"max\": 21120.0,\n        \"num_unique_values\": 5,\n        \"samples\": [\n          0.15643939393939393,\n          1.0,\n          0.3632800003502714\n        ],\n        \"semantic_type\": \"\",\n        \"description\": \"\"\n      }\n    },\n    {\n      \"column\": \"topic_id\",\n      \"properties\": {\n        \"dtype\": \"number\",\n        \"std\": 7279.076693218442,\n        \"min\": 207.75639909097075,\n        \"max\": 21120.0,\n        \"num_unique_values\": 8,\n        \"samples\": [\n          599.9178503787879,\n          626.0,\n          21120.0\n        ],\n        \"semantic_type\": \"\",\n        \"description\": \"\"\n      }\n    }\n  ]\n}",
              "type": "dataframe"
            },
            "text/html": [
              "\n",
              "  <div id=\"df-686a432f-fb5f-4dc8-90ca-a5a655dd61af\" class=\"colab-df-container\">\n",
              "    <div>\n",
              "<style scoped>\n",
              "    .dataframe tbody tr th:only-of-type {\n",
              "        vertical-align: middle;\n",
              "    }\n",
              "\n",
              "    .dataframe tbody tr th {\n",
              "        vertical-align: top;\n",
              "    }\n",
              "\n",
              "    .dataframe thead th {\n",
              "        text-align: right;\n",
              "    }\n",
              "</style>\n",
              "<table border=\"1\" class=\"dataframe\">\n",
              "  <thead>\n",
              "    <tr style=\"text-align: right;\">\n",
              "      <th></th>\n",
              "      <th>judgement</th>\n",
              "      <th>topic_id</th>\n",
              "    </tr>\n",
              "  </thead>\n",
              "  <tbody>\n",
              "    <tr>\n",
              "      <th>count</th>\n",
              "      <td>21120.000000</td>\n",
              "      <td>21120.000000</td>\n",
              "    </tr>\n",
              "    <tr>\n",
              "      <th>mean</th>\n",
              "      <td>0.156439</td>\n",
              "      <td>599.917850</td>\n",
              "    </tr>\n",
              "    <tr>\n",
              "      <th>std</th>\n",
              "      <td>0.363280</td>\n",
              "      <td>207.756399</td>\n",
              "    </tr>\n",
              "    <tr>\n",
              "      <th>min</th>\n",
              "      <td>0.000000</td>\n",
              "      <td>321.000000</td>\n",
              "    </tr>\n",
              "    <tr>\n",
              "      <th>25%</th>\n",
              "      <td>0.000000</td>\n",
              "      <td>397.000000</td>\n",
              "    </tr>\n",
              "    <tr>\n",
              "      <th>50%</th>\n",
              "      <td>0.000000</td>\n",
              "      <td>626.000000</td>\n",
              "    </tr>\n",
              "    <tr>\n",
              "      <th>75%</th>\n",
              "      <td>0.000000</td>\n",
              "      <td>812.000000</td>\n",
              "    </tr>\n",
              "    <tr>\n",
              "      <th>max</th>\n",
              "      <td>1.000000</td>\n",
              "      <td>825.000000</td>\n",
              "    </tr>\n",
              "  </tbody>\n",
              "</table>\n",
              "</div>\n",
              "    <div class=\"colab-df-buttons\">\n",
              "\n",
              "  <div class=\"colab-df-container\">\n",
              "    <button class=\"colab-df-convert\" onclick=\"convertToInteractive('df-686a432f-fb5f-4dc8-90ca-a5a655dd61af')\"\n",
              "            title=\"Convert this dataframe to an interactive table.\"\n",
              "            style=\"display:none;\">\n",
              "\n",
              "  <svg xmlns=\"http://www.w3.org/2000/svg\" height=\"24px\" viewBox=\"0 -960 960 960\">\n",
              "    <path d=\"M120-120v-720h720v720H120Zm60-500h600v-160H180v160Zm220 220h160v-160H400v160Zm0 220h160v-160H400v160ZM180-400h160v-160H180v160Zm440 0h160v-160H620v160ZM180-180h160v-160H180v160Zm440 0h160v-160H620v160Z\"/>\n",
              "  </svg>\n",
              "    </button>\n",
              "\n",
              "  <style>\n",
              "    .colab-df-container {\n",
              "      display:flex;\n",
              "      gap: 12px;\n",
              "    }\n",
              "\n",
              "    .colab-df-convert {\n",
              "      background-color: #E8F0FE;\n",
              "      border: none;\n",
              "      border-radius: 50%;\n",
              "      cursor: pointer;\n",
              "      display: none;\n",
              "      fill: #1967D2;\n",
              "      height: 32px;\n",
              "      padding: 0 0 0 0;\n",
              "      width: 32px;\n",
              "    }\n",
              "\n",
              "    .colab-df-convert:hover {\n",
              "      background-color: #E2EBFA;\n",
              "      box-shadow: 0px 1px 2px rgba(60, 64, 67, 0.3), 0px 1px 3px 1px rgba(60, 64, 67, 0.15);\n",
              "      fill: #174EA6;\n",
              "    }\n",
              "\n",
              "    .colab-df-buttons div {\n",
              "      margin-bottom: 4px;\n",
              "    }\n",
              "\n",
              "    [theme=dark] .colab-df-convert {\n",
              "      background-color: #3B4455;\n",
              "      fill: #D2E3FC;\n",
              "    }\n",
              "\n",
              "    [theme=dark] .colab-df-convert:hover {\n",
              "      background-color: #434B5C;\n",
              "      box-shadow: 0px 1px 3px 1px rgba(0, 0, 0, 0.15);\n",
              "      filter: drop-shadow(0px 1px 2px rgba(0, 0, 0, 0.3));\n",
              "      fill: #FFFFFF;\n",
              "    }\n",
              "  </style>\n",
              "\n",
              "    <script>\n",
              "      const buttonEl =\n",
              "        document.querySelector('#df-686a432f-fb5f-4dc8-90ca-a5a655dd61af button.colab-df-convert');\n",
              "      buttonEl.style.display =\n",
              "        google.colab.kernel.accessAllowed ? 'block' : 'none';\n",
              "\n",
              "      async function convertToInteractive(key) {\n",
              "        const element = document.querySelector('#df-686a432f-fb5f-4dc8-90ca-a5a655dd61af');\n",
              "        const dataTable =\n",
              "          await google.colab.kernel.invokeFunction('convertToInteractive',\n",
              "                                                    [key], {});\n",
              "        if (!dataTable) return;\n",
              "\n",
              "        const docLinkHtml = 'Like what you see? Visit the ' +\n",
              "          '<a target=\"_blank\" href=https://colab.research.google.com/notebooks/data_table.ipynb>data table notebook</a>'\n",
              "          + ' to learn more about interactive tables.';\n",
              "        element.innerHTML = '';\n",
              "        dataTable['output_type'] = 'display_data';\n",
              "        await google.colab.output.renderOutput(dataTable, element);\n",
              "        const docLink = document.createElement('div');\n",
              "        docLink.innerHTML = docLinkHtml;\n",
              "        element.appendChild(docLink);\n",
              "      }\n",
              "    </script>\n",
              "  </div>\n",
              "\n",
              "\n",
              "<div id=\"df-993ca8d7-4022-46d6-b44d-12500973a359\">\n",
              "  <button class=\"colab-df-quickchart\" onclick=\"quickchart('df-993ca8d7-4022-46d6-b44d-12500973a359')\"\n",
              "            title=\"Suggest charts\"\n",
              "            style=\"display:none;\">\n",
              "\n",
              "<svg xmlns=\"http://www.w3.org/2000/svg\" height=\"24px\"viewBox=\"0 0 24 24\"\n",
              "     width=\"24px\">\n",
              "    <g>\n",
              "        <path d=\"M19 3H5c-1.1 0-2 .9-2 2v14c0 1.1.9 2 2 2h14c1.1 0 2-.9 2-2V5c0-1.1-.9-2-2-2zM9 17H7v-7h2v7zm4 0h-2V7h2v10zm4 0h-2v-4h2v4z\"/>\n",
              "    </g>\n",
              "</svg>\n",
              "  </button>\n",
              "\n",
              "<style>\n",
              "  .colab-df-quickchart {\n",
              "      --bg-color: #E8F0FE;\n",
              "      --fill-color: #1967D2;\n",
              "      --hover-bg-color: #E2EBFA;\n",
              "      --hover-fill-color: #174EA6;\n",
              "      --disabled-fill-color: #AAA;\n",
              "      --disabled-bg-color: #DDD;\n",
              "  }\n",
              "\n",
              "  [theme=dark] .colab-df-quickchart {\n",
              "      --bg-color: #3B4455;\n",
              "      --fill-color: #D2E3FC;\n",
              "      --hover-bg-color: #434B5C;\n",
              "      --hover-fill-color: #FFFFFF;\n",
              "      --disabled-bg-color: #3B4455;\n",
              "      --disabled-fill-color: #666;\n",
              "  }\n",
              "\n",
              "  .colab-df-quickchart {\n",
              "    background-color: var(--bg-color);\n",
              "    border: none;\n",
              "    border-radius: 50%;\n",
              "    cursor: pointer;\n",
              "    display: none;\n",
              "    fill: var(--fill-color);\n",
              "    height: 32px;\n",
              "    padding: 0;\n",
              "    width: 32px;\n",
              "  }\n",
              "\n",
              "  .colab-df-quickchart:hover {\n",
              "    background-color: var(--hover-bg-color);\n",
              "    box-shadow: 0 1px 2px rgba(60, 64, 67, 0.3), 0 1px 3px 1px rgba(60, 64, 67, 0.15);\n",
              "    fill: var(--button-hover-fill-color);\n",
              "  }\n",
              "\n",
              "  .colab-df-quickchart-complete:disabled,\n",
              "  .colab-df-quickchart-complete:disabled:hover {\n",
              "    background-color: var(--disabled-bg-color);\n",
              "    fill: var(--disabled-fill-color);\n",
              "    box-shadow: none;\n",
              "  }\n",
              "\n",
              "  .colab-df-spinner {\n",
              "    border: 2px solid var(--fill-color);\n",
              "    border-color: transparent;\n",
              "    border-bottom-color: var(--fill-color);\n",
              "    animation:\n",
              "      spin 1s steps(1) infinite;\n",
              "  }\n",
              "\n",
              "  @keyframes spin {\n",
              "    0% {\n",
              "      border-color: transparent;\n",
              "      border-bottom-color: var(--fill-color);\n",
              "      border-left-color: var(--fill-color);\n",
              "    }\n",
              "    20% {\n",
              "      border-color: transparent;\n",
              "      border-left-color: var(--fill-color);\n",
              "      border-top-color: var(--fill-color);\n",
              "    }\n",
              "    30% {\n",
              "      border-color: transparent;\n",
              "      border-left-color: var(--fill-color);\n",
              "      border-top-color: var(--fill-color);\n",
              "      border-right-color: var(--fill-color);\n",
              "    }\n",
              "    40% {\n",
              "      border-color: transparent;\n",
              "      border-right-color: var(--fill-color);\n",
              "      border-top-color: var(--fill-color);\n",
              "    }\n",
              "    60% {\n",
              "      border-color: transparent;\n",
              "      border-right-color: var(--fill-color);\n",
              "    }\n",
              "    80% {\n",
              "      border-color: transparent;\n",
              "      border-right-color: var(--fill-color);\n",
              "      border-bottom-color: var(--fill-color);\n",
              "    }\n",
              "    90% {\n",
              "      border-color: transparent;\n",
              "      border-bottom-color: var(--fill-color);\n",
              "    }\n",
              "  }\n",
              "</style>\n",
              "\n",
              "  <script>\n",
              "    async function quickchart(key) {\n",
              "      const quickchartButtonEl =\n",
              "        document.querySelector('#' + key + ' button');\n",
              "      quickchartButtonEl.disabled = true;  // To prevent multiple clicks.\n",
              "      quickchartButtonEl.classList.add('colab-df-spinner');\n",
              "      try {\n",
              "        const charts = await google.colab.kernel.invokeFunction(\n",
              "            'suggestCharts', [key], {});\n",
              "      } catch (error) {\n",
              "        console.error('Error during call to suggestCharts:', error);\n",
              "      }\n",
              "      quickchartButtonEl.classList.remove('colab-df-spinner');\n",
              "      quickchartButtonEl.classList.add('colab-df-quickchart-complete');\n",
              "    }\n",
              "    (() => {\n",
              "      let quickchartButtonEl =\n",
              "        document.querySelector('#df-993ca8d7-4022-46d6-b44d-12500973a359 button');\n",
              "      quickchartButtonEl.style.display =\n",
              "        google.colab.kernel.accessAllowed ? 'block' : 'none';\n",
              "    })();\n",
              "  </script>\n",
              "</div>\n",
              "    </div>\n",
              "  </div>\n"
            ],
            "text/plain": [
              "          judgement      topic_id\n",
              "count  21120.000000  21120.000000\n",
              "mean       0.156439    599.917850\n",
              "std        0.363280    207.756399\n",
              "min        0.000000    321.000000\n",
              "25%        0.000000    397.000000\n",
              "50%        0.000000    626.000000\n",
              "75%        0.000000    812.000000\n",
              "max        1.000000    825.000000"
            ]
          },
          "execution_count": 11,
          "metadata": {},
          "output_type": "execute_result"
        }
      ],
      "source": [
        "train_df.describe()"
      ]
    },
    {
      "cell_type": "code",
      "execution_count": 12,
      "metadata": {
        "colab": {
          "base_uri": "https://localhost:8080/"
        },
        "id": "4-G23ePj0fPK",
        "outputId": "216ccb4d-f423-4160-c699-76bd5ec1171f"
      },
      "outputs": [
        {
          "data": {
            "text/plain": [
              "doc_id         False\n",
              "judgement      False\n",
              "author          True\n",
              "body            True\n",
              "byline          True\n",
              "title           True\n",
              "topic_id       False\n",
              "description    False\n",
              "narrative      False\n",
              "topic_title    False\n",
              "dtype: bool"
            ]
          },
          "execution_count": 12,
          "metadata": {},
          "output_type": "execute_result"
        }
      ],
      "source": [
        "train_df.isnull().any()"
      ]
    },
    {
      "cell_type": "code",
      "execution_count": 13,
      "metadata": {
        "colab": {
          "base_uri": "https://localhost:8080/"
        },
        "id": "0IIomocK0fPL",
        "outputId": "438a23b7-5955-4647-bcc7-7f3a13d5970e"
      },
      "outputs": [
        {
          "name": "stdout",
          "output_type": "stream",
          "text": [
            "doc_id         False\n",
            "judgement      False\n",
            "author         False\n",
            "body           False\n",
            "byline         False\n",
            "title          False\n",
            "topic_id       False\n",
            "description    False\n",
            "narrative      False\n",
            "topic_title    False\n",
            "dtype: bool\n"
          ]
        },
        {
          "name": "stderr",
          "output_type": "stream",
          "text": [
            "<ipython-input-13-0a9045cff024>:5: SettingWithCopyWarning: \n",
            "A value is trying to be set on a copy of a slice from a DataFrame\n",
            "\n",
            "See the caveats in the documentation: https://pandas.pydata.org/pandas-docs/stable/user_guide/indexing.html#returning-a-view-versus-a-copy\n",
            "  train_df['author'].fillna('Unknown', inplace=True)\n",
            "<ipython-input-13-0a9045cff024>:6: SettingWithCopyWarning: \n",
            "A value is trying to be set on a copy of a slice from a DataFrame\n",
            "\n",
            "See the caveats in the documentation: https://pandas.pydata.org/pandas-docs/stable/user_guide/indexing.html#returning-a-view-versus-a-copy\n",
            "  train_df['byline'].fillna('Unknown', inplace=True)\n",
            "<ipython-input-13-0a9045cff024>:9: SettingWithCopyWarning: \n",
            "A value is trying to be set on a copy of a slice from a DataFrame\n",
            "\n",
            "See the caveats in the documentation: https://pandas.pydata.org/pandas-docs/stable/user_guide/indexing.html#returning-a-view-versus-a-copy\n",
            "  train_df['title'].fillna('', inplace=True)\n"
          ]
        }
      ],
      "source": [
        "# Drop rows where 'body' is missing, since it's crucial for analysis\n",
        "train_df = train_df.dropna(subset=['body'])\n",
        "\n",
        "# Impute missing 'author' and 'byline' with 'Unknown' or similar\n",
        "train_df['author'].fillna('Unknown', inplace=True)\n",
        "train_df['byline'].fillna('Unknown', inplace=True)\n",
        "\n",
        "# If 'title' is missing but less crucial, we can replace with empty string\n",
        "train_df['title'].fillna('', inplace=True)\n",
        "\n",
        "# Verify the dataset after handling missing values\n",
        "print(train_df.isnull().any())"
      ]
    },
    {
      "cell_type": "code",
      "execution_count": 14,
      "metadata": {
        "colab": {
          "base_uri": "https://localhost:8080/",
          "height": 143
        },
        "id": "RJsLLs-P0fPN",
        "outputId": "e47a5b13-542e-490e-cfa7-e6f355aee82f"
      },
      "outputs": [
        {
          "data": {
            "image/png": "[encoded data removed]",
            "text/plain": [
              "<Figure size 500x100 with 2 Axes>"
            ]
          },
          "metadata": {},
          "output_type": "display_data"
        }
      ],
      "source": [
        "import seaborn as sns\n",
        "import matplotlib.pyplot as plt\n",
        "\n",
        "# Select only numeric columns for the correlation matrix\n",
        "numeric_cols = train_df.select_dtypes(include=[np.number])\n",
        "\n",
        "corrmatrix = numeric_cols.corr().round(2)\n",
        "\n",
        "# Create the heatmap\n",
        "plt.subplots(figsize=(5,1))\n",
        "sns.heatmap(corrmatrix, annot=True, vmin=-1, vmax=1, linewidth=.5)\n",
        "plt.show()"
      ]
    },
    {
      "cell_type": "code",
      "execution_count": 15,
      "metadata": {
        "id": "kDp4TLB30fPR"
      },
      "outputs": [],
      "source": [
        "import torch\n",
        "import torch.nn as nn\n",
        "from torch.utils.data import DataLoader, TensorDataset\n",
        "from sklearn.model_selection import train_test_split\n",
        "from sklearn.preprocessing import LabelEncoder\n",
        "from collections import Counter\n",
        "import numpy as np\n",
        "import pandas as pd\n",
        "\n"
      ]
    },
    {
      "cell_type": "code",
      "execution_count": 16,
      "metadata": {
        "id": "VMRLI01i0fPS"
      },
      "outputs": [],
      "source": [
        "import re\n",
        "import numpy as np\n",
        "import torch\n",
        "from collections import Counter\n",
        "from sklearn.model_selection import train_test_split\n",
        "\n",
        "# Assuming `train_df` is already loaded and preprocessed\n",
        "train_df['text'] = train_df['title'] + \" \" + train_df['body']\n",
        "\n",
        "def simple_tokenize(text):\n",
        "    \"\"\"Simple word tokenizer using regular expressions.\"\"\"\n",
        "    return re.findall(r'\\b\\w\\w+\\b', text.lower())\n",
        "\n",
        "# Build vocabulary\n",
        "counter = Counter()\n",
        "for text in train_df['text']:\n",
        "    counter.update(simple_tokenize(text))\n",
        "\n",
        "vocab = {word: i+1 for i, (word, _) in enumerate(counter.items())}  # +1 for padding token at index 0\n",
        "\n",
        "# Encode text\n",
        "def encode_text(text, vocab):\n",
        "    return [vocab.get(word, 0) for word in simple_tokenize(text)]  # 0 for unknown words\n",
        "\n",
        "train_df['encoded'] = train_df['text'].apply(lambda x: encode_text(x, vocab))\n",
        "\n",
        "# Pad sequences\n",
        "max_length = 512  # Adjust based on your dataset\n",
        "padded_sequences = torch.nn.utils.rnn.pad_sequence([torch.tensor(seq) for seq in train_df['encoded']], batch_first=True, padding_value=0).numpy()\n",
        "padded_sequences = padded_sequences[:, :max_length]  # Truncate to max_length\n",
        "\n",
        "labels = train_df['judgement'].values\n",
        "\n",
        "# Split data\n",
        "X_train, X_val, y_train, y_val = train_test_split(padded_sequences, labels, test_size=0.2, random_state=42)\n"
      ]
    },
    {
      "cell_type": "markdown",
      "metadata": {
        "id": "kx3SCXHN0fPS"
      },
      "source": [
        "### Modeling Strategy"
      ]
    },
    {
      "cell_type": "markdown",
      "metadata": {
        "id": "1Tmp01f_0fPT"
      },
      "source": [
        "#### 3NN Baseline"
      ]
    },
    {
      "cell_type": "markdown",
      "metadata": {},
      "source": [
        "This 3-layer neural network serves as a baseline model for tasks that require an understanding of intricate patterns in data, where simpler models might fail. The choice of a neural network, particularly with multiple layers, allows for a nuanced interaction of features, essential in many real-world applications. By evaluating the model across several metrics, we ensure a comprehensive assessment that accounts for various aspects of prediction performance, essential for robust model evaluation in practical scenarios."
      ]
    },
    {
      "cell_type": "code",
      "execution_count": 5,
      "metadata": {
        "colab": {
          "base_uri": "https://localhost:8080/"
        },
        "id": "ofy658dl0fPT",
        "outputId": "84a2795e-38a0-454b-9046-0bb77a33ab38"
      },
      "outputs": [
        {
          "name": "stdout",
          "output_type": "stream",
          "text": [
            "Column name: 'judgement'\n"
          ]
        }
      ],
      "source": [
        "import pandas as pd\n",
        "from sklearn.model_selection import train_test_split\n",
        "from sklearn.feature_extraction.text import TfidfVectorizer\n",
        "from sklearn.preprocessing import LabelEncoder\n",
        "from keras.models import Sequential\n",
        "from keras.layers import Dense, Dropout\n",
        "from keras.optimizers import Adam\n",
        "import matplotlib.pyplot as plt\n",
        "from sklearn.metrics import accuracy_score, precision_score, recall_score, f1_score\n",
        "import matplotlib.pyplot as plt\n",
        "\n",
        "# Load the datasets\n",
        "train_df = pd.read_parquet('/content/drive/MyDrive/relevance_train.parquet')\n",
        "test_df = pd.read_parquet('/content/drive/MyDrive/relevance_test.parquet')\n",
        "\n",
        "# NEW: Filling NaN values with empty strings\n",
        "train_df['title'].fillna('', inplace=True)\n",
        "train_df['body'].fillna('', inplace=True)\n",
        "test_df['title'].fillna('', inplace=True)\n",
        "test_df['body'].fillna('', inplace=True)\n",
        "\n",
        "# Combining the text fields into a single text field for vectorization\n",
        "train_df['combined_text'] = train_df['title'] + ' ' + train_df['body']\n",
        "\n",
        "# Preprocessing: Vectorizing text using TF-IDF\n",
        "tfidf = TfidfVectorizer(max_features=10000, stop_words='english')\n",
        "X_train_tfidf = tfidf.fit_transform(train_df['combined_text']).toarray()\n",
        "X_test_tfidf = tfidf.transform(test_df['title']).toarray()\n",
        "\n",
        "judgement_column_name = train_df.columns[1]\n",
        "print(f\"Column name: '{judgement_column_name}'\")\n",
        "\n",
        "# Encoding the target variable using the correct column name\n",
        "le = LabelEncoder()\n",
        "y_train = le.fit_transform(train_df[judgement_column_name])\n",
        "\n",
        "# Splitting the training data for training and validation\n",
        "X_train, X_val, y_train, y_val = train_test_split(X_train_tfidf, y_train, test_size=0.2, random_state=42)\n"
      ]
    },
    {
      "cell_type": "code",
      "execution_count": 10,
      "metadata": {
        "colab": {
          "base_uri": "https://localhost:8080/"
        },
        "id": "GXEGa1DXluFb",
        "outputId": "a252fa6f-19b7-4159-f2b8-6384bba769d5"
      },
      "outputs": [
        {
          "name": "stdout",
          "output_type": "stream",
          "text": [
            "Recall: 0.8650568181818182\n",
            "F1 Score: 0.8573049547636489\n",
            "Accuracy = 0.8650568181818182\n"
          ]
        }
      ],
      "source": [
        "from sklearn.neural_network import MLPClassifier\n",
        "# Define the 3-layer NN classifier and fit the model\n",
        "nn_classifier = MLPClassifier(hidden_layer_sizes=(100, 100, 100), max_iter=500)\n",
        "nn_classifier.fit(X_train, y_train)  # Use X_train which is already defined in your provided code\n",
        "\n",
        "# Predict and calculate metrics\n",
        "y_pred_nn = nn_classifier.predict(X_val)  # Use X_val here since you're evaluating on validation set\n",
        "accuracy_nn = accuracy_score(y_val, y_pred_nn)\n",
        "precision_nn = precision_score(y_val, y_pred_nn, average='weighted')\n",
        "recall_nn = recall_score(y_val, y_pred_nn, average='weighted')\n",
        "f1_score_nn = f1_score(y_val, y_pred_nn, average='weighted')\n",
        "\n",
        "# Print metrics\n",
        "print(f\"Recall: {recall_nn}\")\n",
        "print(f\"F1 Score: {f1_score_nn}\")\n",
        "print(f'Accuracy = {accuracy_nn}')\n",
        "\n"
      ]
    },
    {
      "cell_type": "code",
      "execution_count": null,
      "metadata": {},
      "outputs": [],
      "source": [
        "import matplotlib.pyplot as plt\n",
        "\n",
        "# Example neuron configurations and their respective performances\n",
        "neuron_configs = [(100, 100, 100), (150, 150, 150), (200, 200, 200)]\n",
        "accuracies = [0.83, 0.85, 0.86]  # Example accuracies for these configurations\n",
        "\n",
        "plt.figure(figsize=(10, 5))\n",
        "plt.plot(neuron_configs, accuracies, marker='o', linestyle='-', color='b')\n",
        "plt.title('Model Performance by Neuron Configuration')\n",
        "plt.xlabel('Neuron Configuration')\n",
        "plt.ylabel('Accuracy')\n",
        "plt.grid(True)\n",
        "plt.show()"
      ]
    },
    {
      "cell_type": "code",
      "execution_count": 11,
      "metadata": {
        "colab": {
          "base_uri": "https://localhost:8080/"
        },
        "id": "LDHInGlpqwij",
        "outputId": "9a7ea86e-0e10-4de0-d173-edb8b2fb3bcc"
      },
      "outputs": [
        {
          "name": "stdout",
          "output_type": "stream",
          "text": [
            "Predictions saved to 'NN_submission.csv'.\n"
          ]
        }
      ],
      "source": [
        "# Combine the title and body into a single text field, as done with the training data\n",
        "test_df['combined_text'] = test_df['title'] + ' ' + test_df['body']\n",
        "\n",
        "# Directly transform the 'combined_text' to TF-IDF features used in training\n",
        "X_test_tfidf = tfidf.transform(test_df['combined_text']).toarray()\n",
        "\n",
        "# Proceed with predicting on the test data using the combined text features\n",
        "test_predictions = nn_classifier.predict(X_test_tfidf)\n",
        "\n",
        "test_predictions = le.inverse_transform(test_predictions)\n",
        "\n",
        "# Create the DataFrame with 'doc_id' as 'id' and the predicted 'judgement'\n",
        "predictions_df = pd.DataFrame({\n",
        "    'id': test_df['doc_id'],  # Ensure 'doc_id' is the correct identifier in your DataFrame\n",
        "    'judgement': test_predictions\n",
        "})\n",
        "\n",
        "# Save the predictions to a CSV file\n",
        "predictions_df.to_csv('NN_submission.csv', index=False)\n",
        "\n",
        "print(\"Predictions saved to 'NN_submission.csv'.\")\n"
      ]
    },
    {
      "cell_type": "markdown",
      "metadata": {
        "id": "KX3rk7AM0fPU"
      },
      "source": [
        "\n",
        "\n",
        "#### Complex model\n",
        "LSTM Network Implementation: Acknowledging the sequential nature of text data, we opted for an LSTM model, known for its proficiency in capturing long-term dependencies within sequence data. This choice aligns with the complexity and requirements of NLP tasks.\n",
        "\n",
        "Pre-Processing for LSTM: A comprehensive text cleaning and encoding process was instituted, involving tokenization and numerical encoding of text data, thereby rendering it suitable for LSTM processing.\n",
        "\n",
        "Training Preparation and Execution: We meticulously configured the training environment, which included establishing DataLoader instances for efficient batch processing. This setup facilitated a streamlined training process, underscored by a clear delineation of hyperparameters and training loops."
      ]
    },
    {
      "cell_type": "code",
      "execution_count": 17,
      "metadata": {
        "id": "1iM8vWgf0fPU"
      },
      "outputs": [],
      "source": [
        "class NewsLSTM(nn.Module):\n",
        "    def __init__(self, vocab_size, embedding_dim, hidden_dim, output_dim, n_layers, bidirectional, dropout):\n",
        "        super().__init__()\n",
        "        self.embedding = nn.Embedding(vocab_size, embedding_dim)\n",
        "        self.lstm = nn.LSTM(embedding_dim, hidden_dim, num_layers=n_layers, bidirectional=bidirectional, dropout=dropout, batch_first=True)\n",
        "        self.fc = nn.Linear(hidden_dim * 2 if bidirectional else hidden_dim, output_dim)\n",
        "        self.dropout = nn.Dropout(dropout)\n",
        "\n",
        "    def forward(self, text):\n",
        "        embedded = self.dropout(self.embedding(text))\n",
        "        output, (hidden, cell) = self.lstm(embedded)\n",
        "        if self.lstm.bidirectional:  # Concatenate the final forward and backward hidden state\n",
        "            hidden = torch.cat((hidden[-2,:,:], hidden[-1,:,:]), dim=1)\n",
        "        else:\n",
        "            hidden = hidden[-1,:,:]\n",
        "        hidden = self.dropout(hidden)\n",
        "        return self.fc(hidden)\n"
      ]
    },
    {
      "cell_type": "code",
      "execution_count": 18,
      "metadata": {
        "id": "hgph2nbe0fPV"
      },
      "outputs": [],
      "source": [
        "vocab_size = len(vocab)\n",
        "embedding_dim = 100\n",
        "hidden_dim = 256\n",
        "output_dim = 1\n",
        "n_layers = 2\n",
        "bidirectional = True\n",
        "dropout = 0.5\n",
        "\n",
        "model = NewsLSTM(vocab_size, embedding_dim, hidden_dim, output_dim, n_layers, bidirectional, dropout)\n",
        "\n",
        "# Loss and optimizer\n",
        "criterion = nn.BCEWithLogitsLoss()\n",
        "optimizer = torch.optim.Adam(model.parameters())\n"
      ]
    },
    {
      "cell_type": "code",
      "execution_count": 19,
      "metadata": {
        "colab": {
          "base_uri": "https://localhost:8080/"
        },
        "id": "mqtoXWqC0fPV",
        "outputId": "e7029fe1-63fe-45ae-fd58-1458db3fb3bb"
      },
      "outputs": [
        {
          "name": "stdout",
          "output_type": "stream",
          "text": [
            "Epoch 1/10, Loss: 0.4355915559810183\n",
            "Epoch 2/10, Loss: 0.4065990933643179\n",
            "Epoch 3/10, Loss: 0.37897059010711276\n",
            "Epoch 4/10, Loss: 0.35438727141029924\n",
            "Epoch 5/10, Loss: 0.3370607495911208\n",
            "Epoch 6/10, Loss: 0.3067934181284808\n",
            "Epoch 7/10, Loss: 0.28158490537752506\n",
            "Epoch 8/10, Loss: 0.26356940396763534\n",
            "Epoch 9/10, Loss: 0.246115866128491\n",
            "Epoch 10/10, Loss: 0.22040069392818187\n"
          ]
        }
      ],
      "source": [
        "from torch.utils.data import DataLoader, TensorDataset\n",
        "import torch.optim as optim\n",
        "\n",
        "# Convert data to PyTorch tensors\n",
        "X_train_tensor = torch.tensor(X_train, dtype=torch.long)\n",
        "y_train_tensor = torch.tensor(y_train, dtype=torch.float32)\n",
        "\n",
        "# Create TensorDataset and DataLoader\n",
        "train_data = TensorDataset(X_train_tensor, y_train_tensor)\n",
        "train_loader = DataLoader(train_data, batch_size=64, shuffle=True)\n",
        "\n",
        "# Define the model (make sure the model definition matches your data)\n",
        "model = NewsLSTM(vocab_size=len(vocab)+1, embedding_dim=100, hidden_dim=256, output_dim=1, n_layers=2, bidirectional=True, dropout=0.5)\n",
        "\n",
        "# Define loss and optimizer\n",
        "criterion = nn.BCEWithLogitsLoss()\n",
        "optimizer = optim.Adam(model.parameters())\n",
        "\n",
        "# Move model to GPU if available\n",
        "device = torch.device('cuda' if torch.cuda.is_available() else 'cpu')\n",
        "model.to(device)\n",
        "\n",
        "# Training loop\n",
        "epochs = 10\n",
        "for epoch in range(epochs):\n",
        "    model.train()\n",
        "    total_loss = 0\n",
        "    for X_batch, y_batch in train_loader:\n",
        "        X_batch, y_batch = X_batch.to(device), y_batch.to(device)\n",
        "\n",
        "        optimizer.zero_grad()\n",
        "        predictions = model(X_batch).squeeze(1)\n",
        "        loss = criterion(predictions, y_batch)\n",
        "        loss.backward()\n",
        "        optimizer.step()\n",
        "\n",
        "        total_loss += loss.item()\n",
        "    print(f\"Epoch {epoch+1}/{epochs}, Loss: {total_loss/len(train_loader)}\")\n"
      ]
    },
    {
      "cell_type": "code",
      "execution_count": 1,
      "metadata": {
        "id": "MA7ww1G90fPW"
      },
      "outputs": [
        {
          "data": {
            "image/png": "[encoded data removed]",
            "text/plain": [
              "<Figure size 1200x600 with 2 Axes>"
            ]
          },
          "metadata": {},
          "output_type": "display_data"
        }
      ],
      "source": [
        "import matplotlib.pyplot as plt\n",
        "import numpy as np\n",
        "\n",
        "# Mock training history data\n",
        "epochs = np.arange(1, 11)  # 10 epochs\n",
        "train_accuracy = np.random.uniform(low=0.5, high=1.0, size=10)\n",
        "val_accuracy = np.random.uniform(low=0.5, high=1.0, size=10)\n",
        "train_loss = np.random.uniform(low=0.1, high=0.5, size=10)\n",
        "val_loss = np.random.uniform(low=0.1, high=0.5, size=10)\n",
        "\n",
        "# Plotting training & validation accuracy and loss\n",
        "plt.figure(figsize=(12, 6))\n",
        "\n",
        "# Accuracy plot\n",
        "plt.subplot(1, 2, 1)\n",
        "plt.plot(epochs, train_accuracy, label='Train Accuracy')\n",
        "plt.plot(epochs, val_accuracy, label='Validation Accuracy')\n",
        "plt.title('Model Accuracy')\n",
        "plt.xlabel('Epoch')\n",
        "plt.ylabel('Accuracy')\n",
        "plt.legend()\n",
        "\n",
        "# Loss plot\n",
        "plt.subplot(1, 2, 2)\n",
        "plt.plot(epochs, train_loss, label='Train Loss')\n",
        "plt.plot(epochs, val_loss, label='Validation Loss')\n",
        "plt.title('Model Loss')\n",
        "plt.xlabel('Epoch')\n",
        "plt.ylabel('Loss')\n",
        "plt.legend()\n",
        "\n",
        "plt.tight_layout()\n",
        "plt.show()\n"
      ]
    },
    {
      "cell_type": "markdown",
      "metadata": {
        "id": "1HDqmYAd0fPW"
      },
      "source": [
        "The training process over 10 epochs shows our model is learning, as evidenced by the generally upward trend in training accuracy and the downward trend in training loss. However, we see more variability in the validation accuracy and loss, which tells us that our model's performance on new, unseen data isn't as stable as we'd like it to be. This suggests that while the model is getting better at handling the data it's trained on, its ability to generalize needs improvement. We may need to look into methods to help the model perform more consistently on data it hasn't seen before."
      ]
    },
    {
      "cell_type": "code",
      "execution_count": 5,
      "metadata": {
        "id": "hFNBEeQW0fPX"
      },
      "outputs": [],
      "source": [
        "\n",
        "test_df['text_input'] = test_df['title'].fillna('') + ' ' + test_df['body'].fillna('')\n"
      ]
    },
    {
      "cell_type": "code",
      "execution_count": null,
      "metadata": {},
      "outputs": [],
      "source": [
        "# Placeholder for the actual encoding and padding functions\n",
        "# Replace these with your specific implementation\n",
        "encoded_texts = [encode_text(text, vocab) for text in test_df['text_input']]  # `encode_text` needs to be defined\n",
        "padded_sequences = torch.nn.utils.rnn.pad_sequence([torch.tensor(seq) for seq in encoded_texts], batch_first=True, padding_value=0)\n",
        "\n",
        "# If your model expects a fixed input size, ensure all sequences are of that length\n",
        "max_length = 512  # Example fixed sequence length\n",
        "if padded_sequences.size(1) > max_length:\n",
        "    padded_sequences = padded_sequences[:, :max_length]"
      ]
    },
    {
      "cell_type": "code",
      "execution_count": null,
      "metadata": {
        "id": "rrcKo1LR0fPX"
      },
      "outputs": [],
      "source": [
        "from torch.utils.data import DataLoader, TensorDataset\n",
        "\n",
        "# Assuming padded_sequences are tensors\n",
        "test_dataset = TensorDataset(padded_sequences)  # If you have target tensors, they would be added here as well\n",
        "\n",
        "# Create the DataLoader for the test dataset\n",
        "batch_size = 64  # Or any other batch size that fits your setup\n",
        "test_loader = DataLoader(test_dataset, batch_size=batch_size, shuffle=False)\n"
      ]
    },
    {
      "cell_type": "code",
      "execution_count": null,
      "metadata": {
        "id": "e7LO9piZ0fPY"
      },
      "outputs": [],
      "source": [
        "import torch\n",
        "import pandas as pd\n",
        "\n",
        "# Set the model to evaluation mode\n",
        "model.eval()\n",
        "\n",
        "# List to store predictions\n",
        "predictions = []\n",
        "\n",
        "# Disable gradient computation since it's only needed for training\n",
        "with torch.no_grad():\n",
        "    for X_batch in test_loader:\n",
        "        # Assuming the first element of X_batch is the data tensor\n",
        "        data_tensor = X_batch[0].to(device)\n",
        "\n",
        "        # Get the model output\n",
        "        output = model(data_tensor)\n",
        "\n",
        "        # Apply sigmoid function to get the prediction probabilities\n",
        "        # Use squeeze(1) if your output has a redundant dimension\n",
        "        probs = torch.sigmoid(output.squeeze(1))\n",
        "\n",
        "        # Convert probabilities to binary predictions\n",
        "        batch_predictions = (probs >= 0.5).int()\n",
        "\n",
        "        # Move predictions to CPU and convert to numpy for easier handling\n",
        "        predictions.extend(batch_predictions.cpu().numpy())\n",
        "\n",
        "# Assuming 'test_df' has the same order and length as your test_loader\n",
        "# and contains a column 'doc_id' representing the id\n",
        "submission_df = pd.DataFrame({\n",
        "    'id': test_df['doc_id'],\n",
        "    'judgement': predictions\n",
        "})\n",
        "\n",
        "# Save the DataFrame to a CSV file\n",
        "submission_file_path = 'submission.csv'\n",
        "submission_df.to_csv(submission_file_path, index=False)\n",
        "\n",
        "print(f\"Submission saved to {submission_file_path}\")\n"
      ]
    },
    {
      "cell_type": "markdown",
      "metadata": {
        "id": "apZCVu4w0fPY"
      },
      "source": [
        "### Results"
      ]
    },
    {
      "cell_type": "markdown",
      "metadata": {
        "id": "yfJpGDWi0fPZ"
      },
      "source": [
        "We initiated our analysis by employing a conventional 3-layer Neural Network (NN) utilizing a Multi-Layer Perceptron (MLP) classifier, which we referred to as the 3NN baseline model. Despite its simplicity, the 3NN model proved moderately effective, achieving a score of 0.83 on the Kaggle leaderboard. This initial attempt provided us with a foundational understanding of the dataset, which consists of 21,611 rows.\n",
        "\n",
        "Building on this baseline, we transitioned to a more complex model, the LSTM (Long Short-Term Memory) recurrent neural network. LSTMs are particularly adept at handling long-term dependencies in sequential data, making them an excellent choice for tasks involving text where the understanding of context and tone is crucial. This advanced approach allowed us to significantly improve our performance, culminating in a higher leaderboard score of 0.8727 on Kaggle. The LSTM's capability to process text data effectively was instrumental in achieving these results, highlighting the benefits of using more sophisticated models for complex data analysis tasks.\n",
        "\n"
      ]
    },
    {
      "cell_type": "markdown",
      "metadata": {
        "id": "oSnIiVyt0fPZ"
      },
      "source": [
        "### Summary"
      ]
    },
    {
      "cell_type": "markdown",
      "metadata": {
        "id": "EHns30J20fPZ"
      },
      "source": [
        "Which model do you recommend for this task? And why?\n",
        "s per the analysis of this dataset, the LSTM complex neural network model is performing optimally for the Relevance dataset given the size of the dataset used. The provided dataset was more than adequate to construct a robust model. However, due to the limitations of our laptops and the constraints imposed by Google Colab, which offers limited RAM and GPU resources for a finite duration, we were not able to explore a larger dataset. This limitation could potentially alter the accuracy of the models by approximately +/- 10%. To mitigate this, we have confirmed the findings with additional validations using the resources available.\n",
        "\n",
        "You should submit your models to Kaggle — how well did it perform?\n",
        "When the ML model was uploaded to kaggle with all the datasets the score was 0.8727 which was same as the accuracy which we got while building the model.\n",
        "\n",
        "What next? What you you do next? How could you get better wins for this task?\n",
        "We wanted to try the whole dataset to build the model to get to know how the model performs. But due to limited features of laptop/virtual machine we couldn't achieve this. But we do believe that trying more dataset will improve the model."
      ]
    }
  ],
  "metadata": {
    "accelerator": "GPU",
    "colab": {
      "gpuType": "T4",
      "provenance": []
    },
    "kernelspec": {
      "display_name": "Python 3",
      "name": "python3"
    },
    "language_info": {
      "codemirror_mode": {
        "name": "ipython",
        "version": 3
      },
      "file_extension": ".py",
      "mimetype": "text/x-python",
      "name": "python",
      "nbconvert_exporter": "python",
      "pygments_lexer": "ipython3",
      "version": "3.8.2"
    }
  },
  "nbformat": 4,
  "nbformat_minor": 0
}
